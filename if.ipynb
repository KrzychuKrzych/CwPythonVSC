{
 "cells": [
  {
   "cell_type": "code",
   "execution_count": 12,
   "metadata": {},
   "outputs": [
    {
     "name": "stdout",
     "output_type": "stream",
     "text": [
      "To nie jest ta sama lista!\n"
     ]
    }
   ],
   "source": [
    "lst = [1,2,3]\n",
    "lst1 != lst\n",
    "\n",
    "if lst is lst1:\n",
    "    print('To ta sama lista') \n",
    "else: print('To nie jest ta sama lista!')"
   ]
  },
  {
   "cell_type": "code",
   "execution_count": 15,
   "metadata": {},
   "outputs": [
    {
     "name": "stdout",
     "output_type": "stream",
     "text": [
      " x jest Nonem\n"
     ]
    }
   ],
   "source": [
    "x = None\n",
    "\n",
    "if x is None:\n",
    "    print(' x jest Nonem')\n"
   ]
  },
  {
   "cell_type": "code",
   "execution_count": 17,
   "metadata": {},
   "outputs": [
    {
     "name": "stdout",
     "output_type": "stream",
     "text": [
      "Lista nie jest równa liczbie!!\n"
     ]
    }
   ],
   "source": [
    "lst = [1,2,4,5,6]\n",
    "liczba = 2\n",
    "\n",
    "if len(lst) == liczba:\n",
    "    print('Lista jest równa liczbie')\n",
    "else: print('Lista nie jest równa liczbie!!')"
   ]
  }
 ],
 "metadata": {
  "kernelspec": {
   "display_name": "Python 3",
   "language": "python",
   "name": "python3"
  },
  "language_info": {
   "codemirror_mode": {
    "name": "ipython",
    "version": 3
   },
   "file_extension": ".py",
   "mimetype": "text/x-python",
   "name": "python",
   "nbconvert_exporter": "python",
   "pygments_lexer": "ipython3",
   "version": "3.12.1"
  }
 },
 "nbformat": 4,
 "nbformat_minor": 2
}
