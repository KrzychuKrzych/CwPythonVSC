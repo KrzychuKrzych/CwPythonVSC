{
 "cells": [
  {
   "cell_type": "code",
   "execution_count": null,
   "metadata": {},
   "outputs": [],
   "source": [
    "1. Napisz funkcję, która wypisuje sumę dwóch liczb\n",
    "przekazywanych jako argumenty.\n",
    "2. Napisz funkcję, która zamienia liczbę dni na liczbę\n",
    "milisekund.\n",
    "3. Napisz funkcję, która zwraca największą z trzech wartości.\n",
    "4. Napisz funkcję, która przyjmuje napis i zwraca pierwszą\n",
    "literę z alfabetu, która nie występuje w żadnym słowie.\n",
    "5. Napisz funkcję, która przyjmuje dwie daty i zwraca liczbę\n",
    "dni między nimi."
   ]
  },
  {
   "cell_type": "code",
   "execution_count": 3,
   "metadata": {},
   "outputs": [
    {
     "data": {
      "text/plain": [
       "7"
      ]
     },
     "execution_count": 3,
     "metadata": {},
     "output_type": "execute_result"
    }
   ],
   "source": [
    "def sum_licz(a,b):\n",
    "    return a + b\n",
    "\n",
    "sum_licz(3,4)"
   ]
  },
  {
   "cell_type": "code",
   "execution_count": 4,
   "metadata": {},
   "outputs": [
    {
     "data": {
      "text/plain": [
       "172800000"
      ]
     },
     "execution_count": 4,
     "metadata": {},
     "output_type": "execute_result"
    }
   ],
   "source": [
    "def ilosc_dni(a):\n",
    "    return a * 86400000\n",
    "\n",
    "ilosc_dni(2)"
   ]
  },
  {
   "cell_type": "code",
   "execution_count": 8,
   "metadata": {},
   "outputs": [
    {
     "name": "stdout",
     "output_type": "stream",
     "text": [
      "9\n"
     ]
    }
   ],
   "source": [
    "def najwieksza(a,b,c):\n",
    "    if a > b and a > c:\n",
    "        print(a)\n",
    "    elif b > a and b > c:\n",
    "        print(b)\n",
    "    else:\n",
    "        print(c)\n",
    "        \n",
    "najwieksza(9,7,8)"
   ]
  },
  {
   "cell_type": "code",
   "execution_count": null,
   "metadata": {},
   "outputs": [],
   "source": [
    "#prosciej bez petli\n",
    "\n",
    "def najwieksza_2(a,b,c):\n",
    "    return max(a,b,c)"
   ]
  },
  {
   "cell_type": "code",
   "execution_count": 20,
   "metadata": {},
   "outputs": [
    {
     "name": "stdout",
     "output_type": "stream",
     "text": [
      "pierwsza niepowtarzalna litera w abecadlo to f\n"
     ]
    }
   ],
   "source": [
    "def pierwsza_litera(napis):\n",
    "    alf = \"abcdefghijklmnoprstuwxyz\"\n",
    "    for litera in alf:\n",
    "        if litera not in napis.lower():\n",
    "            return litera\n",
    "    return None\n",
    "\n",
    "slowo = \"abecadlo\"\n",
    "wynik = pierwsza_litera(slowo)\n",
    "\n",
    "print(f\"pierwsza niepowtarzalna litera w {slowo} to {wynik}\")"
   ]
  },
  {
   "cell_type": "code",
   "execution_count": 25,
   "metadata": {},
   "outputs": [
    {
     "name": "stdout",
     "output_type": "stream",
     "text": [
      "Ilość dni pomiędzy datą 2024-05-21 a 2021-11-14 to 919\n"
     ]
    }
   ],
   "source": [
    "from datetime import datetime\n",
    "\n",
    "def dni_pomiedzy(data1,data2):\n",
    "    format_daty = \"%Y-%m-%d\"\n",
    "    data1 = datetime.strptime(data1, format_daty)\n",
    "    data2 = datetime.strptime(data2, format_daty)\n",
    "    \n",
    "    roznica = abs(data1 - data2)\n",
    "    \n",
    "    return roznica.days\n",
    "\n",
    "data_start = \"2024-05-21\"\n",
    "data_koniec = \"2021-11-14\"\n",
    "\n",
    "wynik = dni_pomiedzy(data_start, data_koniec)\n",
    "\n",
    "print(f\"Ilość dni pomiędzy datą {data_start} a {data_koniec} to {wynik}\")"
   ]
  }
 ],
 "metadata": {
  "kernelspec": {
   "display_name": "Python 3",
   "language": "python",
   "name": "python3"
  },
  "language_info": {
   "codemirror_mode": {
    "name": "ipython",
    "version": 3
   },
   "file_extension": ".py",
   "mimetype": "text/x-python",
   "name": "python",
   "nbconvert_exporter": "python",
   "pygments_lexer": "ipython3",
   "version": "3.12.1"
  }
 },
 "nbformat": 4,
 "nbformat_minor": 2
}
